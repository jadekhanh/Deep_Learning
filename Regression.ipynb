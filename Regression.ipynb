{
  "cells": [
    {
      "cell_type": "markdown",
      "metadata": {
        "id": "7IbwLOEjT4I4"
      },
      "source": [
        "\n",
        "\n",
        "# Problem Set 1\n",
        "\n"
      ]
    },
    {
      "cell_type": "markdown",
      "metadata": {
        "id": "jpjvDX8GT4I_"
      },
      "source": [
        "## Preamble\n",
        "\n",
        "To run and solve this assignment, one must have a working IPython Notebook installation. The easiest way to set it up is to open the assignment by [Google Colab](https://colab.research.google.com/). It is an online platform which already has the environment set up for this assignment.\n",
        "\n",
        "To run code in a cell or to render [Markdown](https://en.wikipedia.org/wiki/Markdown)+[LaTeX](https://en.wikipedia.org/wiki/LaTeX) press `Ctr+Enter` or `[>|]`(like \"play\") button above. To edit any code or text cell [double]click on its content. To change cell type, choose \"Markdown\" or \"Code\" in the drop-down menu above.\n",
        "\n",
        "We highly encourage students to put down their derivations into corresponding cells below. However, if one does not know LaTeX (and would find it too hard to learn it by looking at examples listed below between \\$..\\$), you might pass it in pen-and-paper format, however grading of these submissions might be delayed.\n",
        "\n",
        "Put your solution into boxes marked with **`[double click here to add a solution]`** and press Ctr+Enter to render text. [Double]click on a cell to edit or to see its source code. You can add cells via **`+`** sign at the top left corner.\n",
        "\n",
        "Submission instructions: please upload your completed solution .ipynb file to [Gradescope](https://www.gradescope.com/courses/591156) (Entry code: GP5DK6) by **Sep 25, 10PM EST**. If you have pen-and-paper answers, please hand them in class on the same due day.\n",
        "\n",
        "`Vector` stands for `column vector` below. Show all steps when proving statements."
      ]
    },
    {
      "cell_type": "markdown",
      "metadata": {
        "id": "rZ5Ph9quT4JF"
      },
      "source": [
        "### Problem 1: Review of Probability and Statistics (20 points)\n",
        "\n",
        "**Q1.1**: $X$ and $Y$ are random variables. The expectation of $X$ is  $E(X)$ and the variance of $X$ is $Var(X)$.  The expectation of $Y$ is  $E(Y)$ and the variance of $X$ is $Var(Y)$. Prove the following:\n",
        "\n",
        "(a) $E(aX+bY) = aE(X)+bE(Y)$\n",
        "\n",
        "(b) $Var(aX+bY) = a^2 Var(X) + b^2Var(Y) + 2abCov(X,Y)$, where $Cov(X,Y)$ is covariance of X and Y.\n",
        "\n",
        "For simplicity, we can assume that $X$ and $Y$ are continuous random variables.\n"
      ]
    },
    {
      "cell_type": "markdown",
      "metadata": {
        "id": "chIChbwfIv9f"
      },
      "source": []
    },
    {
      "cell_type": "markdown",
      "metadata": {
        "id": "ERu4tkxOIv9i"
      },
      "source": [
        "**Q1.2 (a)** Assume that we have n observations $x_1,...,x_n$, each from a normal distribution $X_i\\sim N(\\mu, \\sigma^2)$. The observations are correlated, i.e. $Corr(X_i, X_j)=\\rho$. Derive the logarithm of the Likelihood function: $\\log P(x_1, \\dots, x_n ; \\mu, \\sigma)$.\n",
        "\n",
        "**Hint:** $X = (x_1,\\ldots, x_n)^\\prime$ can be viewed as a single sample of a $n$-variate Normal distribution.\n"
      ]
    },
    {
      "cell_type": "markdown",
      "source": [],
      "metadata": {
        "id": "I21YArKTV2V6"
      }
    },
    {
      "cell_type": "markdown",
      "source": [
        "**(b)** Compute the maximum likelihood estimates for $\\mu$ and $\\sigma^2$."
      ],
      "metadata": {
        "id": "ZoVBntGuVu8A"
      }
    },
    {
      "cell_type": "markdown",
      "source": [
        "**`[double click here to add a solution]`**"
      ],
      "metadata": {
        "id": "pH5F_6SPK1Sj"
      }
    },
    {
      "cell_type": "markdown",
      "source": [
        "**(c)** In this problem, we run stimulation experiments to compare the behavior between the usual variance estimator for indenpendent samples, and the variance estimator that accounts for correlation, derived in Q1.2 (a). In the code below, we generate correlated observation from $N(0, 1)$. Complete the estimator function `iid_estimator` and `corr_estimator` below for the usual variance estimator for indenpendent samples, and the variance estimator that accounts for correlation, and analyze the simulation results."
      ],
      "metadata": {
        "id": "ivz1uICoKziJ"
      }
    },
    {
      "cell_type": "code",
      "source": [
        "# Coding part for Q 1.2(c)\n",
        "import numpy as np\n",
        "from scipy.stats import multivariate_normal\n",
        "import matplotlib.pyplot as plt\n",
        "\n",
        "def iid_estimator(x):\n",
        "  # ----  Complete the code here\n",
        "  # iid estimator = (1/(n-1)) * sum((x_i - x_mean)^2)\n",
        "  m = len(x) - 1\n",
        "  iid = (1/m) * np.sum((x - np.mean(x))**2)\n",
        "  return iid\n",
        "\n",
        "def corr_estimator(x, R):\n",
        "  # ---- Complete the code here\n",
        "  # corr estimator = (1/m) * (x - x_mean)^T * R * (x - x_mean)\n",
        "  m = len(x)\n",
        "  x_centered = x - np.mean(x)\n",
        "  inverse_R = np.linalg.inv(R)\n",
        "  corr = (1/m) * x_centered.T @ inverse_R @ x_centered\n",
        "  return corr\n",
        "\n",
        "n = 32\n",
        "sigma = 1\n",
        "n_sim = 1000\n",
        "rho = 0.5\n",
        "np.random.seed(101)\n",
        "\n",
        "# Prepare the correlation matrix\n",
        "R = np.ones((n,n)) * rho\n",
        "np.fill_diagonal(R, 1)\n",
        "\n",
        "# Run the simulation\n",
        "sim = np.zeros((2, n_sim))\n",
        "for i in range(n_sim):\n",
        "    x = multivariate_normal.rvs(mean=np.zeros(n), cov=R * (sigma**2), size=1)\n",
        "    sim[:, i] = [corr_estimator(x, R), iid_estimator(x)]\n",
        "\n",
        "# Plot the result\n",
        "plt.figure(figsize=(10, 5))\n",
        "\n",
        "plt.subplot(1, 2, 1)\n",
        "plt.hist(sim[0, :], color='gray', bins=30)\n",
        "plt.xlabel('Estimate')\n",
        "plt.title('Histogram of Estimates of $\\\\sigma^2$')\n",
        "plt.axvline(x=sigma**2, color='red', linewidth=2)\n",
        "\n",
        "plt.subplot(1, 2, 2)\n",
        "plt.hist(sim[1, :], color='gray', bins=30)\n",
        "plt.xlabel('Estimate')\n",
        "plt.title('Histogram of Independent Estimates of $\\\\sigma^2$')\n",
        "plt.axvline(x=sigma**2, color='red', linewidth=2)"
      ],
      "metadata": {
        "id": "kiMI1ZMG5_0S",
        "colab": {
          "base_uri": "https://localhost:8080/",
          "height": 508
        },
        "outputId": "1cc36831-c2f8-4cce-ced7-ef904cc800eb"
      },
      "execution_count": 1,
      "outputs": [
        {
          "output_type": "execute_result",
          "data": {
            "text/plain": [
              "<matplotlib.lines.Line2D at 0x7aaf98307460>"
            ]
          },
          "metadata": {},
          "execution_count": 1
        },
        {
          "output_type": "display_data",
          "data": {
            "text/plain": [
              "<Figure size 1000x500 with 2 Axes>"
            ],
            "image/png": "[encoded data removed]"
          },
          "metadata": {}
        }
      ]
    },
    {
      "cell_type": "markdown",
      "metadata": {
        "id": "p_ZKL_5XIv9k"
      },
      "source": [
        "Analyses of the simulation results:\n",
        "\n",
        "- The idd estimator underestimates the true population variance because it does not take into account the correlation structure among the data points.\n",
        "- On the other hand, the correlation estimator takes the correlation into account by using the correlation matrix (R) to adjust the variance estimate.\n",
        "- Therefore, the correlation estimator produces more accuracy and less bias in variance estimates when our data exhibits correlation."
      ]
    },
    {
      "cell_type": "markdown",
      "metadata": {
        "id": "zdDnhTezIv9p"
      },
      "source": [
        "**Q1.3**:Let $(X, Y)$ be uniform on the unit square. Let $Z = X/Y$.\n",
        "Find the probability density function (pdf) of $Z$.\n",
        "\n",
        "**Hint:** pdf is the derivative of cumulative density function (cdf)."
      ]
    },
    {
      "cell_type": "markdown",
      "metadata": {
        "id": "B1BoB_qyT4JJ"
      },
      "source": [
        "**`[double click here to add a solution]`**"
      ]
    },
    {
      "cell_type": "markdown",
      "metadata": {
        "id": "bI8M-uRuIv9t"
      },
      "source": [
        "**Q1.4** Let's assume that a binary classifier has a false positive rate of 0.01 (test positive but is actually negative), false negative rate of 0.3 (test negative but is actually positive). Assume that 20% of the samples are labled as postive. If one sample were predicted as negative by the model, what are the likelihood that the sample is labeled as postive? (Show your steps)"
      ]
    },
    {
      "cell_type": "markdown",
      "metadata": {
        "id": "-L86HfvtIv9u"
      },
      "source": [
        "**`[double click here to add a solution]`**"
      ]
    },
    {
      "cell_type": "markdown",
      "source": [
        "### Problem 2: Exponential Family (20 points)\n",
        "\n",
        "**Note:** If the equation below doesn't show correctly, you can download the PDF version of the question 2 [here](https://drive.google.com/file/d/1FnkIH58hfBk3DvSuamte_DT91wrD7x8O/view?usp=sharing).\n",
        "\n",
        "In your previous machine learning courses, you've likely encountered various types of probability distributions like Gaussian, Poisson, and Bernoulli. You may not know that these distributions are part of a larger, unified framework known as the \"exponential family\" of distributions. Understanding the exponential family is crucial for advancing machine learning and statistics because it provides a general way to express a wide range of probability distributions using a standard form. This unified representation makes it easier to develop algorithms and statistical methods that can work across different types of data.\n",
        "\n",
        "\n",
        "\n",
        "The exponential family of distributions can be expressed in a canonical form as follows:\n",
        "\n",
        "\\begin{equation}\n",
        "p({\\mathbf{x}} ; \\boldsymbol{\\theta}) = h(\\mathbf{x}) \\exp \\left( \\boldsymbol{\\eta}(\\boldsymbol{\\theta}) \\cdot \\mathbf{T}(\\mathbf{x}) - A(\\boldsymbol{\\theta}) \\right)\n",
        "\\end{equation}\n",
        "\n",
        "Here's what each term represents:\n",
        "\n",
        "\n",
        "     \n",
        "- $\\mathbf{x}$ is the observed data, which can be potentially high-dimensional vector\n",
        "\n",
        "- $ \\boldsymbol{\\theta} $ are the natural parameters of the distribution, which is a vector\n",
        "- $ h(\\mathbf{x}) $ is the base measure, which is a function of the data $ \\mathbf{x} $.\n",
        "- $ \\boldsymbol{\\eta}(\\boldsymbol{\\theta}) $ is a function mapping the natural parameters $ \\boldsymbol{\\theta} $ to the canonical parameters.\n",
        "- $ \\mathbf{T}(\\mathbf{x}) $ is the sufficient statistic, which is a function of the data $ \\mathbf{x} $. In the machine learning community, $\\mathbf{T}(\\mathbf{x})$ is sometimes called the feature vector of the distribution.\n",
        "- $ A(\\boldsymbol{\\theta}) $ is the log-partition function, which ensures that the distribution integrates with 1.\n",
        "- $\\boldsymbol{\\eta}(\\boldsymbol{\\theta}) \\cdot \\mathbf{T}(\\mathbf{x})$ denotes the inner product between the two vectors,  $\\mathbf{T(x)}$ and $\\boldsymbol{\\eta}(\\boldsymbol{\\theta})$\n",
        "\n",
        "\n",
        "\n",
        "The beauty of this formulation is its generality. By choosing different forms for $ h(\\mathbf{x}) $, $ \\boldsymbol{\\eta}(\\boldsymbol{\\theta}) $, $ \\mathbf{T}(\\mathbf{x}) $, and $ A(\\boldsymbol{\\theta}) $, you can derive a wide range of specific distributions like Gaussian, Poisson, and Bernoulli.\n",
        "\n",
        "The expression may look scary at the beginning. Let us start with a probability density you are the most familiar with and make it look like a member of the exponential family: univariate Gaussian distribution!\n",
        "\n",
        "\\\\\n",
        "\n",
        "**Q2.1 (warm up)**: The density function of the Gaussian distribution has the following form:\n",
        "\\begin{equation}\n",
        "p(x ; \\mu, \\sigma) = \\frac{1}{\\sigma\\sqrt{2 \\pi}} \\exp \\left( - \\frac{(x - \\mu)^2}{2\\sigma^2} \\right),\n",
        "\\end{equation}\n",
        "\n",
        "in this case $\\boldsymbol{\\theta} = [\\mu, \\sigma]$, a two dimensional vector, is a natural parameters.\n",
        "\n",
        "-- Derive the forms of sufficient statistics $ \\mathbf{T}(\\mathbf{x}) $ , the canonical form of the parameters  $ \\boldsymbol{\\eta}(\\boldsymbol{\\theta}) $ , the log partition function $ A(\\boldsymbol{\\theta})$   and the base measure $h(x)$.\n",
        "\n",
        "**Hint:** Expand the parenthesis inside the argument of the exponent. First, collect all terms that only involve $\\boldsymbol{\\theta}$ and no $\\mathbf{x}$, that is  $A(\\boldsymbol{\\theta})$. Then, collect all terms with only $\\mathbf{x}$ and no $\\boldsymbol{\\theta}$; that is your $h(\\mathbf{x})$. The remaining terms involve $\\mathbf{x}$ and $\\boldsymbol{\\theta}$. Create two vectors to express this joint term as an inner product term.  \n"
      ],
      "metadata": {
        "id": "9gbUiAHb7qtK"
      }
    },
    {
      "cell_type": "markdown",
      "source": [
        "**`[double click here to add a solution]`**"
      ],
      "metadata": {
        "id": "2huY4bZA_F0K"
      }
    },
    {
      "cell_type": "markdown",
      "source": [
        "**Q2.2 (Multi-variate Gaussian distribution)**: The probability distribution of a $k$-dimensional Gaussian distribution has the following form:\n",
        "\\begin{equation*}\n",
        "p(\\mathbf{x} ; \\boldsymbol{\\mu}, \\boldsymbol{\\Sigma}) = \\frac{1}{\\sqrt{ (2\\pi)^k \\det(\\boldsymbol{\\Sigma}) }} \\exp \\left( -\\frac{1}{2} (\\mathbf{x} - \\boldsymbol{\\mu})^T \\boldsymbol{\\Sigma}^{-1} (\\mathbf{x} - \\boldsymbol{\\mu}) \\right),\n",
        "\\end{equation*}\n",
        "where $\\boldsymbol{\\mu}$ and $\\boldsymbol{\\Sigma}$ are the mean and covariance matrix respective and the $\\det(\\boldsymbol{\\Sigma})$ denotes the determinant of the  covariance matrix. In this equation $\\boldsymbol{\\theta} = [\\boldsymbol{\\mu} , vec(\\boldsymbol{\\Sigma})]$, $vec(\\cdot)$ denotes creating a vector from a matrix by concatenating its rows into a long vector.\n",
        "\n",
        "-- Derive the forms of sufficient statistics $ \\mathbf{T}(\\mathbf{x}) $ , the canonical form of the parameters  $ \\boldsymbol{\\eta}(\\boldsymbol{\\theta}) $ , the log partition function  $ A(\\boldsymbol{\\theta})$   and the base measure $h(\\mathbf{x})$.\n",
        "\n",
        "**Hint:** Use the same procedure as the univariate Gaussian distribution. Use the following identities $\\mathbf{x}^T \\boldsymbol{A} \\mathbf{x} = \\text{trace} ( \\boldsymbol{A} \\mathbf{x} \\mathbf{x}^T )$ and $\\text{trace}(\\boldsymbol{A} \\boldsymbol{B}) = vec(\\boldsymbol{A}) \\cdot vec(\\boldsymbol{B})$.\n"
      ],
      "metadata": {
        "id": "gKoPouIrHa75"
      }
    },
    {
      "cell_type": "markdown",
      "source": [
        "**`[double click here to add a solution]`**"
      ],
      "metadata": {
        "id": "HECqMHPlKpWJ"
      }
    },
    {
      "cell_type": "markdown",
      "source": [
        "**Q2.3 (Nice properties of the partition function)**: The partition function is the normalizer of the pdf (probability density function).\n",
        "\n",
        "\\begin{equation*}\n",
        "    p(\\mathbf{x}; \\boldsymbol{\\eta}) \\propto h(\\mathbf{x}) \\exp \\left( \\boldsymbol{\\eta} \\cdot \\mathbf{T}(\\mathbf{x}) \\right).\n",
        "\\end{equation*}\n",
        "The partition function ensures that pdf integrates into one. In other words, the partition function makes the proportional sign to the equality.\n",
        "\\begin{equation*}\n",
        "    p(\\mathbf{x}; \\boldsymbol{\\eta}) = \\frac{1}{e^{A(\\boldsymbol{\\eta})}} h(\\mathbf{x}) \\exp \\left( \\boldsymbol{\\eta} \\cdot \\mathbf{T}(\\mathbf{x}) \\right).\n",
        "\\end{equation*}\n",
        "\n",
        "\\begin{equation*}\n",
        "  e^{A(\\boldsymbol{\\eta})} = \\int h(\\mathbf{x}) \\exp \\left( \\boldsymbol{\\eta} \\cdot \\mathbf{T}(\\mathbf{x}) \\right) d\\mathbf{x} \\quad \\rightarrow \\quad A(\\boldsymbol{\\eta}) = \\log \\int h(\\mathbf{x}) \\exp \\left( \\boldsymbol{\\eta} \\cdot \\mathbf{T}(\\mathbf{x}) \\right) d\\mathbf{x}\n",
        "\\end{equation*}\n",
        "\n",
        "-- Show that the gradient of the partition function has the following property:\n",
        "\\begin{equation*}\n",
        "  \\frac{\\partial A}{ \\partial \\boldsymbol{\\eta}^T} = \\mathbb{E} \\left[ \\mathbf{T}(\\mathbf{x}) \\right],\n",
        "\\end{equation*}\n",
        "where $\\mathbb{E}$ denotes the expectation."
      ],
      "metadata": {
        "id": "_i8S1NtJLCGR"
      }
    },
    {
      "cell_type": "markdown",
      "source": [
        "**`[double click here to add a solution]`**"
      ],
      "metadata": {
        "id": "JTmXLcyjSiUY"
      }
    },
    {
      "cell_type": "markdown",
      "source": [
        "**Q2.4 (Maximum Likelihood (ML) using exponential family)**: Now, let's do Maximum Likelihood estimation with the exponential family. Let's assume that $\\mathcal{D} = \\{ \\mathbf{x_1}, \\cdots, \\mathbf{x_N} \\}$ denotes the training data of size $N$. The ML estimation maxmizes the following loss function:\n",
        "\n",
        "\\begin{eqnarray*}\n",
        " \\hat{\\boldsymbol{\\eta}} = \\arg \\max_{\\boldsymbol{\\eta}} \\ell( \\boldsymbol{\\eta}; \\mathcal{D}),\n",
        "\\end{eqnarray*}\n",
        "where\n",
        "\\begin{eqnarray*}\n",
        "\\ell(\\boldsymbol{\\eta}; \\mathcal{D}) = \\sum_{n=1}^{N} \\log p(\\mathbf{x_n} ; \\boldsymbol{\\eta})\n",
        "\\end{eqnarray*}\n",
        "\n",
        "**Hint:** you can drop $h(\\mathbf{x})$ term in the loss function because it does not depend on $\\boldsymbol{\\eta}$ and does not contribute to the optimization. You should use the results from Q2.3.\n",
        "\n",
        "--  Show that the optimal $\\boldsymbol{\\eta}$ satisfies the following condition:\n",
        "\\begin{eqnarray*}\n",
        "    \\mathbb{E} \\left[ \\mathbf{T} (\\mathbf{x})\\right] = \\dfrac{1}{N} \\sum_{n=1}^{N} \\mathbf{T}(\\mathbf{x_n})\n",
        "\\end{eqnarray*}"
      ],
      "metadata": {
        "id": "Gpn98-ZQSmYD"
      }
    },
    {
      "cell_type": "markdown",
      "source": [
        "**`[double click here to add a solution]`**"
      ],
      "metadata": {
        "id": "JG2CSQ7iTt_l"
      }
    },
    {
      "cell_type": "markdown",
      "source": [
        "### Problem 3: Multi-class Logistic Regression (20 points)\n",
        "\n",
        "In the problem, we want to solve the multiclass classification problem with logistic regression.\n",
        "- We have the constant data matrix $\\mathbf{X} \\in \\mathbb{R}^{n \\times d}$. Each row $\\mathbf{x}_i$ is a d-dimensional data vector.\n",
        "- When we can multi-class (say $K$ classes), we need to have one weight vector per class, i.e., $\\mathbf{w}_k \\in \\mathbb{R}^d$. We can put all weight vectors into a matrix $\\mathbf{W} = [\\mathbf{w}_1, \\cdots , \\mathbf{w}_K ] \\in \\mathbb{R}^{d \\times K}$\n",
        "- We have the resulting vector $Y$. Each $Y_i$ represents the classification of person $i$ in category $k$.\n",
        "- $k$ enumerates the $K$ classes. One can represent $y_i$ as a one-hot vector $\\mathbf{y}_i$. This vector uses one-hot encoding to represent a given input's lable. For example, when classifying among three different lables, an object belonging to the second class would be represented as $\\left[ \\matrix{0, \\ 1, \\ 0} \\right]$\n",
        "-The matrix $\\mathbf{z}_i$ prepresents the inner product such that $\\mathbf{z}_i=\\left[ w_1^T \\mathbf{x}_i , w_2^T \\mathbf{x}_i, \\cdots, w_K^T \\mathbf{x}_i \\right]$. We use $z_{ik}$ to denote the $k$ element of $\\mathbf{z}_i$\n",
        "\n",
        "\n",
        "\n",
        "\n",
        "**Q3.1**: Recall that in multiclass regression, the probability is determined by taking the softmax of the inner product $Z_i$. Given the above definitions, please write down the log-likelihood function and simplify:\n",
        "\n",
        "**Hint 1:** $\\mathbb{P}(y_i=k; \\mathbf{W}| \\mathbf{x}_i ) \\propto e^{z_{ik}}$ and you need to normalize this to get the correct probability.\n",
        "\n",
        "**Hint 2:** The log likelihood of the sample $\\mathcal{L}( \\mathbf{x}_i,y_i ; \\mathbf{W}) = \\sum_{k=1}^{K} \\log \\mathbb{P}(y_i=k; \\mathbf{W} | \\mathbf{x}_i)$"
      ],
      "metadata": {
        "id": "u-ZQWo12KsEH"
      }
    },
    {
      "cell_type": "markdown",
      "source": [
        "**`[double click here to add a solution]`**"
      ],
      "metadata": {
        "id": "ZXWRUVywUUb3"
      }
    },
    {
      "cell_type": "markdown",
      "source": [
        "**Q3.2**: In order to properly implement logistic regression we must also take the gradient of the log-likelihood. Using your simplified solution from $\\textbf Q3.1$, take the gradient of the log-likelihood with respect to the weight $w_k$ such that $\\nabla L = \\frac{\\delta L}{\\delta w_k}$ and simplify.\n",
        "\n",
        "**Hint:** $X_i = I(y_i=k)X_i$"
      ],
      "metadata": {
        "id": "AGYjUAfpKsea"
      }
    },
    {
      "cell_type": "markdown",
      "source": [
        "**`[double click here to add a solution]`**"
      ],
      "metadata": {
        "id": "SSf--EriUd0t"
      }
    },
    {
      "cell_type": "markdown",
      "source": [
        "**Q3.3**: As $X_i$ grows in size, computing $\\exp(Z_i)$ can lead to overflows issues such a NAN reading in our models. In an effort so somewhat normalize the data, we often dake the log-likelihood as you have in the previous two questions to control the rate of growth. Although this method helps, we still run into issues in under- or overflow when summing over a large n. To make our algorithm more robust to failure, we often subtract a constant term $a=\\max(w^TX_i)$ from $Z_i$. Prove that subtracting this term does not negatively effect the output of of our likelihood function.\n",
        "\n",
        "**Hint:** Start by looking at the softmax function."
      ],
      "metadata": {
        "id": "zuGsMY4ZKs4f"
      }
    },
    {
      "cell_type": "markdown",
      "source": [
        "**`[double click here to add a solution]`**"
      ],
      "metadata": {
        "id": "hqdcCNBRUhe4"
      }
    },
    {
      "cell_type": "markdown",
      "source": [
        "When substituting this relationship into your simplified log-likelihood, it ensures that the greatest value is zero even if other values would underflow. This workaround leads to relatively decent preformance even in the case of a large $X_i$. While you may have encountered this before, it is explicitly known as the LogSumExp trick and it is an important substitution for implementing a multiclass regression classification model."
      ],
      "metadata": {
        "id": "FEZBwo4DLH7T"
      }
    },
    {
      "cell_type": "markdown",
      "source": [
        "**Q3.4:** You may remember that a regularization term, commonly denoted as $R(f)$, is often added to the loss function in classification problem. When tuning the model for optimal preformance, $R(f)$ is usually scaled by some constant $\\lambda$ which controls the effect of the regularization on the outcome of the loss function. Why do we add and tune this term to our loss? How can it improve our model's preformance?"
      ],
      "metadata": {
        "id": "faLR0G5OX0II"
      }
    },
    {
      "cell_type": "markdown",
      "source": [
        "Answer: We add and tune this term to our loss to control overfitting and improve model generalization ability. By introducing a regularization term into the loss function, we impose a penalty on overly complex models, preventing the model to overfit the data.\n",
        "In addition, regularization helps balance bias and variance in our model. Models with high complexity tend to have high variance, making the model sensitive to small variations in data, which leads to poor generalization. Regularization reduces the variance and allows our model to be more stable and less noisy."
      ],
      "metadata": {
        "id": "9MGKfUWWUjOS"
      }
    },
    {
      "cell_type": "markdown",
      "metadata": {
        "id": "zveEsegTUzIX"
      },
      "source": [
        "\n",
        "### Problem 4: Multi-class logistic regression (40 points)\n",
        "Building upon the foundations set in the previous question, your task is to implement multi-class logistic regression on a provided synthetic dataset.\n",
        "\n",
        "Dataset Details:\n",
        "The dataset is contained within the provided ``dataset.pickle`` file. It's important to note that the labels for the three classes in this multi-class dataset (iris) are already one-hot encoded. Make sure to consider this when implementing your functions and evaluating the model. [**Download**](https://drive.google.com/file/d/1RekHuQ_sCwMrf6k1QLAJKLVxZCTZF81j/view?usp=sharing)\n",
        "\n",
        "In the framework provided, there are specific sections marked with the comment: ``## -- ! code required``. These indicate the parts where you are expected to contribute code. Specifically, you'll be implementing the following functions:\n",
        "\n",
        "1. softmax_stable: Create a numerically stable version of the softmax function. (10 points)\n",
        "2. logistic_regression_grad: Compute the gradient of the logistic regression with regularization.(10 points)\n",
        "3. logistic_regression_loss: Determine the loss for logistic regression considering regularization.(10 points)\n",
        "4. SGD in training: Implement the Stochastic Gradient Descent algorithm for training.(10 points)\n",
        "\n",
        "\n",
        "Note: For this assignment, rely on the gradient of the loss function you manually derived in the previous question. Please refrain from using the autograd functionality present in deep learning libraries. After implementing the above, visualize the learned weights w and analyze the influence of the regularization coefficient λ on the learned weights. This exploration can offer valuable insights into the behavior of logistic regression under different regularization strengths.\n",
        "\n",
        "\n",
        "\n",
        "\n",
        "\n",
        "\n"
      ]
    },
    {
      "cell_type": "code",
      "source": [
        "import pickle\n",
        "import numpy as np\n",
        "import matplotlib.pyplot as plt\n",
        "\n",
        "# Load Dataset\n",
        "with open(\"dataset.pkl\", 'rb') as f:\n",
        "    dataset = pickle.load(f)\n",
        "\n",
        "num_classes = 3\n",
        "y_train_labels = np.argmax(dataset['y_train'], axis=1)\n",
        "y_test_labels = np.argmax(dataset['y_test'], axis=1)\n",
        "\n",
        "\n",
        "# Plot class distribution for training set\n",
        "plt.figure(figsize=(12, 6))\n",
        "plt.subplot(1, 2, 1)\n",
        "plt.hist(y_train_labels, bins=np.arange(num_classes+1)-0.5, edgecolor='k', alpha=0.7)\n",
        "plt.xticks(np.arange(num_classes))\n",
        "plt.title('Class Distribution in Training Set')\n",
        "plt.xlabel('Class Label')\n",
        "plt.ylabel('Count')\n",
        "\n",
        "\n",
        "# Plot class distribution for testing set\n",
        "plt.subplot(1, 2, 2)\n",
        "plt.hist(y_test_labels, bins=np.arange(num_classes+1)-0.5, edgecolor='k', alpha=0.7)\n",
        "plt.xticks(np.arange(num_classes))\n",
        "plt.title('Class Distribution in Testing Set')\n",
        "plt.xlabel('Class Label')\n",
        "plt.ylabel('Count')\n",
        "\n",
        "plt.tight_layout()\n",
        "plt.show()\n"
      ],
      "metadata": {
        "id": "zH1K5Y1bO2aT",
        "colab": {
          "base_uri": "https://localhost:8080/",
          "height": 607
        },
        "outputId": "f5f6a50d-907e-4ada-95c1-e968d89b7f24"
      },
      "execution_count": 2,
      "outputs": [
        {
          "output_type": "display_data",
          "data": {
            "text/plain": [
              "<Figure size 1200x600 with 2 Axes>"
            ],
            "image/png": "[encoded data removed]"
          },
          "metadata": {}
        }
      ]
    },
    {
      "cell_type": "code",
      "source": [
        "print(\"Shape of x_train:\", dataset['x_train'].shape)\n",
        "print(\"Shape of y_train:\", dataset['y_train'].shape)\n",
        "print(\"Shape of x_train:\", dataset['x_test'].shape)\n",
        "print(\"Shape of y_train:\", dataset['y_test'].shape)"
      ],
      "metadata": {
        "id": "XvGp6ide-aoJ",
        "colab": {
          "base_uri": "https://localhost:8080/"
        },
        "outputId": "dc5087be-b4f1-45fb-9887-1a11f69b62d5"
      },
      "execution_count": 3,
      "outputs": [
        {
          "output_type": "stream",
          "name": "stdout",
          "text": [
            "Shape of x_train: (100, 4)\n",
            "Shape of y_train: (100, 3)\n",
            "Shape of x_train: (50, 4)\n",
            "Shape of y_train: (50, 3)\n"
          ]
        }
      ]
    },
    {
      "cell_type": "code",
      "source": [
        "# Training and Evaluation of Multi Class Logistic Model Performance on synthetic dataset (dataset.pkl)\n",
        "import pickle\n",
        "import numpy as np\n",
        "import pandas as pd\n",
        "from scipy.special import softmax\n",
        "from copy import deepcopy\n",
        "import matplotlib.pyplot as plt\n",
        "\n",
        "def permute_data(X, y):\n",
        "    \"\"\" Randomly permute data \"\"\"\n",
        "    perm = np.random.permutation(len(X))\n",
        "    return X[perm], y[perm]\n",
        "\n",
        "\n",
        "def softmax_stable(Z, axis=1):\n",
        "    ## <! code required> Optional: You can prevent Overflow by subtracting the inputs with the maximum value in the input set.\n",
        "    # Based on the equation of softmax\n",
        "    max_z = np.max(Z, axis=axis, keepdims=True)\n",
        "    numerator = np.exp(Z - max_z)\n",
        "    denominator = np.sum(numerator, axis=axis, keepdims=True)\n",
        "    softmax = numerator / denominator\n",
        "    return softmax\n",
        "\n",
        "\n",
        "def logistic_regression_grad(X, y_onehot, w, reg_lambda):\n",
        "    \"\"\"\n",
        "    y_onehot: onehot encoded labels\n",
        "    \"\"\"\n",
        "    ## <! code required>\n",
        "    # Gradient of logistic regression loss:\n",
        "    # Gradient of L(w) = (-1/m) * X^T(Y-P) + 2*lambda*w\n",
        "    Z = X @ w\n",
        "    P = softmax_stable(Z, axis=1)\n",
        "    m = len(X)\n",
        "    log_reg_grad = (-1/m) * X.T @ (y_onehot - P) + 2*reg_lambda*w\n",
        "    return log_reg_grad\n",
        "\n",
        "\n",
        "def logistic_regression_loss(X, y_onehot, w, reg_lambda):\n",
        "    ## <! code required>  Optional: You can prevent log of zero happening by adding small constant(epsilon)\n",
        "    # Logistic regression loss with regularization:\n",
        "    # L(w) = (-1/m) * sum(y_onehot * log(p)) + lambda + sum(w^2))\n",
        "    epsilon = 1e-20\n",
        "    Z = X @ w\n",
        "    P = softmax_stable(Z, axis=1)\n",
        "    log_P = np.log(P + epsilon)\n",
        "    m = len(X)\n",
        "    log_reg_loss = (-1/m) * np.sum(y_onehot * log_P) + (reg_lambda/2) * np.sum(w * w)\n",
        "    return log_reg_loss\n",
        "\n",
        "\n",
        "def multiclass_accuracy(X, y_onehot, w):\n",
        "    Z =  X @ w\n",
        "    P = softmax_stable(Z, axis=1)\n",
        "    predictions = np.argmax(P, axis=1)\n",
        "    true_labels = np.argmax(y_onehot, axis=1)\n",
        "    return np.mean(predictions == true_labels)\n",
        "\n",
        "\n",
        "def training_multiclass_reg(X_train, y_train, X_validation, y_validation, w, STEP_SIZE, reg_lambda):\n",
        "    BATCH_SIZE = 16\n",
        "    NUM_TRAIN = len(X_train)\n",
        "    X_p, y_p = permute_data(X_train, y_train)\n",
        "    epoch_loss_history = []\n",
        "\n",
        "    for epoch in range(NUM_EPOCHS):\n",
        "        epoch_loss = AverageMeter()\n",
        "        for i in range(0, NUM_TRAIN, BATCH_SIZE):\n",
        "            X_batch = X_p[i: min(i + BATCH_SIZE, NUM_TRAIN)]\n",
        "            y_batch = y_p[i: min(i + BATCH_SIZE, NUM_TRAIN)]\n",
        "            loss = logistic_regression_loss(X_batch, y_batch, w, reg_lambda)\n",
        "            epoch_loss.update(loss)\n",
        "            grad = logistic_regression_grad(X_batch, y_batch, w, reg_lambda)\n",
        "\n",
        "            ## <! code required>\n",
        "            # update the weight: w_t+1 = w_t - learning_rate* g_t\n",
        "            w -= STEP_SIZE * grad\n",
        "\n",
        "        epoch_loss_history.append(epoch_loss.avg)\n",
        "        X_p, y_p = permute_data(X_train, y_train)\n",
        "    return w, epoch_loss_history\n",
        "\n",
        "\n",
        "class AverageMeter:\n",
        "    def __init__(self):\n",
        "        self.reset()\n",
        "\n",
        "    def reset(self):\n",
        "        self.val = 0\n",
        "        self.avg = 0\n",
        "        self.sum = 0\n",
        "        self.count = 0\n",
        "\n",
        "    def update(self, val, n=1):\n",
        "        self.val = val\n",
        "        self.sum += val * n\n",
        "        self.count += n\n",
        "        self.avg = self.sum / self.count\n",
        "\n",
        "\n",
        "\n",
        "# Load Dataset\n",
        "with open(\"dataset.pkl\", 'rb') as f:\n",
        "    dataset = pickle.load(f)\n",
        "\n",
        "\n",
        "# Parameters\n",
        "NUM_EPOCHS = 500\n",
        "STEP_SIZE = 0.01\n",
        "FEAT_SIZE = dataset['x_train'].shape[1]\n",
        "NUM_CLASSES = dataset['y_train'].shape[1]\n",
        "INIT_W = np.random.randn(FEAT_SIZE, NUM_CLASSES)\n",
        "\n",
        "# Parameters for regularization (lambda_values)\n",
        "LAMBDA1, LAMBDA2 = 1e-4, 1e-2\n",
        "\n",
        "# Training and Evaluation\n",
        "# Re-training with LAMBDA1 (1e-4)\n",
        "w_final_1, epoch_loss_1 = training_multiclass_reg(dataset['x_train'], dataset['y_train'],\n",
        "                                                  dataset['x_test'], dataset['y_test'],\n",
        "                                                  deepcopy(INIT_W), STEP_SIZE, LAMBDA1)\n",
        "\n",
        "\n",
        "\n",
        "val_loss_1 = logistic_regression_loss(dataset['x_test'], dataset['y_test'], w_final_1, LAMBDA1)\n",
        "val_acc_1 = multiclass_accuracy(dataset['x_test'], dataset['y_test'], w_final_1)\n",
        "\n",
        "\n",
        "# Re-training with LAMBDA2 (1e-2)\n",
        "w_final_2, epoch_loss_2 = training_multiclass_reg(dataset['x_train'], dataset['y_train'],\n",
        "                                                  dataset['x_test'], dataset['y_test'],\n",
        "                                                  deepcopy(INIT_W), STEP_SIZE, LAMBDA2)\n",
        "\n",
        "\n",
        "val_loss_2 = logistic_regression_loss(dataset['x_test'], dataset['y_test'], w_final_2, LAMBDA2)\n",
        "val_acc_2 = multiclass_accuracy(dataset['x_test'], dataset['y_test'], w_final_2)\n",
        "\n",
        "print(val_loss_1, val_acc_1, val_loss_2, val_acc_2)"
      ],
      "metadata": {
        "id": "cUJ1zYjuIIDm",
        "colab": {
          "base_uri": "https://localhost:8080/"
        },
        "outputId": "9d828ab7-a827-4953-e5a5-af70ae73d16b"
      },
      "execution_count": 4,
      "outputs": [
        {
          "output_type": "stream",
          "name": "stdout",
          "text": [
            "0.21837941815941844 0.9 0.30754776900979297 1.0\n"
          ]
        }
      ]
    },
    {
      "cell_type": "code",
      "source": [
        "# Visualizing the learned weights, their differences, and the train/validation loss on the iris dataset\n",
        "fig, ax = plt.subplots(nrows=2, ncols=2)\n",
        "\n",
        "# Weights for λ=LAMBDA1\n",
        "ax[0, 0].stem(list(range(FEAT_SIZE)), w_final_1[:, 0])\n",
        "ax[0, 0].grid()\n",
        "ax[0, 0].set_title(f'Logistic Regression weights(λ={LAMBDA1})')\n",
        "ax[0, 0].set_ylabel('w')\n",
        "\n",
        "\n",
        "# Weights for λ=LAMBDA2\n",
        "ax[0, 1].stem(list(range(FEAT_SIZE)), w_final_2[:, 0])\n",
        "ax[0, 1].grid()\n",
        "ax[0, 1].set_title(f'Logistic Regression weights(λ={LAMBDA2})')\n",
        "ax[0, 1].set_ylabel('w')\n",
        "\n",
        "\n",
        "\n",
        "# Train/validation loss for λ=LAMBDA1 & λ=LAMBDA2\n",
        "# Note: We only have the training losses in the current setup.\n",
        "ax[1, 0].plot(list(range(NUM_EPOCHS)), epoch_loss_1, \"r\", label=\"Training Loss\")\n",
        "ax[1, 0].grid()\n",
        "ax[1, 0].set_title(f'Logistic Regression Training Loss (λ={LAMBDA1})')\n",
        "ax[1, 0].set_ylabel('train loss')\n",
        "ax[1, 0].set_xlabel('Epochs')\n",
        "ax[1, 0].legend()\n",
        "\n",
        "\n",
        "ax[1, 1].plot(list(range(NUM_EPOCHS)), epoch_loss_2, \"r\", label=\"Training Loss\")\n",
        "ax[1, 1].grid()\n",
        "ax[1, 1].set_title(f'Logistic Regression Training Loss (λ={LAMBDA2})')\n",
        "ax[1, 1].set_ylabel('train loss')\n",
        "ax[1, 1].set_xlabel('Epochs')\n",
        "ax[1, 1].legend()\n",
        "\n",
        "fig.set_size_inches(15, 10)\n",
        "plt.tight_layout()\n",
        "\n",
        "plt.show()\n"
      ],
      "metadata": {
        "id": "kr_9_Nf_-KtQ",
        "colab": {
          "base_uri": "https://localhost:8080/",
          "height": 1000
        },
        "outputId": "c43f142a-a14e-4a53-e6c2-a79b16d1cae8"
      },
      "execution_count": 5,
      "outputs": [
        {
          "output_type": "display_data",
          "data": {
            "text/plain": [
              "<Figure size 1500x1000 with 4 Axes>"
            ],
            "image/png": "[encoded data removed]"
          },
          "metadata": {}
        }
      ]
    },
    {
      "cell_type": "markdown",
      "source": [
        "After building and training your multi-class logistic regression model, validating its performance against a tried-and-tested implementation is a good practice. Scikit-learn offers a robust LogisticRegression module that can be utilized for this purpose. By comparing results, you can ensure the integrity of your custom implementation and diagnose any potential issues. You can run the below code cell, which employs Scikit-learn's logistic regression on your dataset for this validation."
      ],
      "metadata": {
        "id": "q8CgohRq1sly"
      }
    },
    {
      "cell_type": "code",
      "source": [
        "# Validating Performance from Scikitlearn LogisticRegression on iris dataset\n",
        "from sklearn.linear_model import LogisticRegression\n",
        "from sklearn.metrics import accuracy_score\n",
        "\n",
        "# Load the multiclass dataset\n",
        "with open(\"dataset.pkl\", 'rb') as f:\n",
        "    dataset = pickle.load(f)\n",
        "\n",
        "# Extract data\n",
        "X_train, y_train, X_test, y_test = dataset['x_train'], dataset['y_train'], dataset['x_test'], dataset['y_test']\n",
        "\n",
        "# Convert one-hot encoded labels back to their integer labels for sklearn\n",
        "y_train_int = np.argmax(y_train, axis=1)\n",
        "y_test_int = np.argmax(y_test, axis=1)\n",
        "\n",
        "# Train a logistic regression model using sklearn\n",
        "clf = LogisticRegression(solver='lbfgs', max_iter=1000, multi_class='multinomial')\n",
        "clf.fit(X_train, y_train_int)\n",
        "\n",
        "# Predict on the test set\n",
        "y_pred = clf.predict(X_test)\n",
        "\n",
        "# Calculate accuracy\n",
        "sklearn_accuracy = accuracy_score(y_test_int, y_pred)\n",
        "sklearn_accuracy\n"
      ],
      "metadata": {
        "id": "NBTvJWI--mTo",
        "colab": {
          "base_uri": "https://localhost:8080/"
        },
        "outputId": "61c84f53-c4e1-4d1d-fae6-19d2946efca2"
      },
      "execution_count": 6,
      "outputs": [
        {
          "output_type": "execute_result",
          "data": {
            "text/plain": [
              "1.0"
            ]
          },
          "metadata": {},
          "execution_count": 6
        }
      ]
    },
    {
      "cell_type": "markdown",
      "metadata": {
        "id": "tz_dW2GdT4K6"
      },
      "source": [
        "**Q4.3**: **Hyper-parameter Tuning**  \n",
        "Please use different $λ$ / lambda values in your defined multi-class logistic regression algorithm to find the best $λ$ / lambda for the provided step size with minimum loss on the validation set.\n",
        "\n",
        "Specifically, you should use the validation set to determine the best value for each $λ$ \\lambda for the provided step size with its corresponding validation error/loss.\n",
        "\n"
      ]
    },
    {
      "cell_type": "code",
      "source": [
        "# Hyperparameter tuning on iris dataset\n",
        "from tqdm.notebook import tqdm\n",
        "import matplotlib.pyplot as plt\n",
        "from copy import deepcopy\n",
        "\n",
        "# Define the hyperparameters you want to tune\n",
        "## <! code required>\n",
        "step_size = .01\n",
        "lambdas = [0.001, 0.01, 0.1 ,1, 10, 100, 1000, 10000, 100000]\n",
        "\n",
        "# Initialize variables to store the best values\n",
        "best_lambda = None\n",
        "best_validation_acc = 0\n",
        "\n",
        "# Store accuracies for plotting\n",
        "accuracies = []\n",
        "\n",
        "# Loop over lambdas\n",
        "for lambda_ in tqdm(lambdas, desc='Lambda Loop'):\n",
        "\n",
        "    w_final, _ = training_multiclass_reg(dataset['x_train'], dataset['y_train'],\n",
        "                                         dataset['x_test'], dataset['y_test'],\n",
        "                                         deepcopy(INIT_W), step_size, lambda_)\n",
        "\n",
        "    val_acc = multiclass_accuracy(dataset['x_test'], dataset['y_test'], w_final)\n",
        "    accuracies.append(val_acc)\n",
        "\n",
        "    # Update the best values if we found a better accuracy\n",
        "    if val_acc > best_validation_acc:\n",
        "        best_lambda = lambda_\n",
        "        best_validation_acc = val_acc\n",
        "\n",
        "# Print the best hyperparameters\n",
        "print('The best λ is %.5f and its corresponding validation accuracy is %.3f' %\n",
        "      (best_lambda, best_validation_acc))\n",
        "\n",
        "# Plotting the results\n",
        "fig, ax = plt.subplots()\n",
        "ax.plot(lambdas, accuracies, label='Validation Accuracy')\n",
        "ax.set_xlabel('λ (Regularization Strength)')\n",
        "ax.set_ylabel('Validation Accuracy')\n",
        "ax.set_xscale(\"log\")\n",
        "ax.grid(True, which=\"both\", ls=\"--\")\n",
        "ax.legend()\n",
        "plt.show()\n"
      ],
      "metadata": {
        "id": "rr-cp-XiKk7Y",
        "colab": {
          "base_uri": "https://localhost:8080/",
          "height": 712,
          "referenced_widgets": [
            "9a4e8298093d406ea672b95c233bfddb",
            "161835531a24433e8248f8e78cb64c67",
            "97ad4ddbf7e6482ebaeedfe8dc0e5e46",
            "843588b44e9646038d79f7d79f3d4e03",
            "51441e3847334653980f0ddc93c4dd22",
            "fa72666a4ba240e996982bb12ea79e39",
            "aa4f40e7febe4bca89348d121283908c",
            "a67b1396575c463ebf2c2586d3ef74fc",
            "8a017e9c52f043c7b2aabce21ed39c4c",
            "30d4d946ac6948ee9f5a075346f6b5ec",
            "e58c6d1273db4f98bf453d9aa7604db6"
          ]
        },
        "outputId": "900f0fdb-9492-4808-bae6-91df9ea8c023"
      },
      "execution_count": 7,
      "outputs": [
        {
          "output_type": "display_data",
          "data": {
            "text/plain": [
              "Lambda Loop:   0%|          | 0/9 [00:00<?, ?it/s]"
            ],
            "application/vnd.jupyter.widget-view+json": {
              "version_major": 2,
              "version_minor": 0,
              "model_id": "9a4e8298093d406ea672b95c233bfddb"
            }
          },
          "metadata": {}
        },
        {
          "output_type": "stream",
          "name": "stderr",
          "text": [
            "<ipython-input-4-a8a93321e077>:48: RuntimeWarning: overflow encountered in double_scalars\n",
            "  log_reg_loss = (-1/m) * np.sum(y_onehot * log_P) + (reg_lambda/2) * np.sum(w * w)\n",
            "<ipython-input-4-a8a93321e077>:48: RuntimeWarning: overflow encountered in multiply\n",
            "  log_reg_loss = (-1/m) * np.sum(y_onehot * log_P) + (reg_lambda/2) * np.sum(w * w)\n",
            "<ipython-input-4-a8a93321e077>:35: RuntimeWarning: overflow encountered in multiply\n",
            "  log_reg_grad = (-1/m) * X.T @ (y_onehot - P) + 2*reg_lambda*w\n",
            "<ipython-input-4-a8a93321e077>:44: RuntimeWarning: invalid value encountered in matmul\n",
            "  Z = X @ w\n",
            "<ipython-input-4-a8a93321e077>:32: RuntimeWarning: invalid value encountered in matmul\n",
            "  Z = X @ w\n",
            "/usr/local/lib/python3.10/dist-packages/numpy/core/fromnumeric.py:86: RuntimeWarning: overflow encountered in reduce\n",
            "  return ufunc.reduce(obj, axis, dtype, out, **passkwargs)\n"
          ]
        },
        {
          "output_type": "stream",
          "name": "stdout",
          "text": [
            "The best λ is 0.01000 and its corresponding validation accuracy is 1.000\n"
          ]
        },
        {
          "output_type": "display_data",
          "data": {
            "text/plain": [
              "<Figure size 640x480 with 1 Axes>"
            ],
            "image/png": "[encoded data removed]"
          },
          "metadata": {}
        }
      ]
    }
  ],
  "metadata": {
    "anaconda-cloud": {},
    "colab": {
      "provenance": []
    },
    "kernelspec": {
      "display_name": "Python 3 (ipykernel)",
      "language": "python",
      "name": "python3"
    },
    "language_info": {
      "codemirror_mode": {
        "name": "ipython",
        "version": 3
      },
      "file_extension": ".py",
      "mimetype": "text/x-python",
      "name": "python",
      "nbconvert_exporter": "python",
      "pygments_lexer": "ipython3",
      "version": "3.11.4"
    },
    "widgets": {
      "application/vnd.jupyter.widget-state+json": {
        "9a4e8298093d406ea672b95c233bfddb": {
          "model_module": "@jupyter-widgets/controls",
          "model_name": "HBoxModel",
          "model_module_version": "1.5.0",
          "state": {
            "_dom_classes": [],
            "_model_module": "@jupyter-widgets/controls",
            "_model_module_version": "1.5.0",
            "_model_name": "HBoxModel",
            "_view_count": null,
            "_view_module": "@jupyter-widgets/controls",
            "_view_module_version": "1.5.0",
            "_view_name": "HBoxView",
            "box_style": "",
            "children": [
              "IPY_MODEL_161835531a24433e8248f8e78cb64c67",
              "IPY_MODEL_97ad4ddbf7e6482ebaeedfe8dc0e5e46",
              "IPY_MODEL_843588b44e9646038d79f7d79f3d4e03"
            ],
            "layout": "IPY_MODEL_51441e3847334653980f0ddc93c4dd22"
          }
        },
        "161835531a24433e8248f8e78cb64c67": {
          "model_module": "@jupyter-widgets/controls",
          "model_name": "HTMLModel",
          "model_module_version": "1.5.0",
          "state": {
            "_dom_classes": [],
            "_model_module": "@jupyter-widgets/controls",
            "_model_module_version": "1.5.0",
            "_model_name": "HTMLModel",
            "_view_count": null,
            "_view_module": "@jupyter-widgets/controls",
            "_view_module_version": "1.5.0",
            "_view_name": "HTMLView",
            "description": "",
            "description_tooltip": null,
            "layout": "IPY_MODEL_fa72666a4ba240e996982bb12ea79e39",
            "placeholder": "​",
            "style": "IPY_MODEL_aa4f40e7febe4bca89348d121283908c",
            "value": "Lambda Loop: 100%"
          }
        },
        "97ad4ddbf7e6482ebaeedfe8dc0e5e46": {
          "model_module": "@jupyter-widgets/controls",
          "model_name": "FloatProgressModel",
          "model_module_version": "1.5.0",
          "state": {
            "_dom_classes": [],
            "_model_module": "@jupyter-widgets/controls",
            "_model_module_version": "1.5.0",
            "_model_name": "FloatProgressModel",
            "_view_count": null,
            "_view_module": "@jupyter-widgets/controls",
            "_view_module_version": "1.5.0",
            "_view_name": "ProgressView",
            "bar_style": "success",
            "description": "",
            "description_tooltip": null,
            "layout": "IPY_MODEL_a67b1396575c463ebf2c2586d3ef74fc",
            "max": 9,
            "min": 0,
            "orientation": "horizontal",
            "style": "IPY_MODEL_8a017e9c52f043c7b2aabce21ed39c4c",
            "value": 9
          }
        },
        "843588b44e9646038d79f7d79f3d4e03": {
          "model_module": "@jupyter-widgets/controls",
          "model_name": "HTMLModel",
          "model_module_version": "1.5.0",
          "state": {
            "_dom_classes": [],
            "_model_module": "@jupyter-widgets/controls",
            "_model_module_version": "1.5.0",
            "_model_name": "HTMLModel",
            "_view_count": null,
            "_view_module": "@jupyter-widgets/controls",
            "_view_module_version": "1.5.0",
            "_view_name": "HTMLView",
            "description": "",
            "description_tooltip": null,
            "layout": "IPY_MODEL_30d4d946ac6948ee9f5a075346f6b5ec",
            "placeholder": "​",
            "style": "IPY_MODEL_e58c6d1273db4f98bf453d9aa7604db6",
            "value": " 9/9 [00:05&lt;00:00,  2.26it/s]"
          }
        },
        "51441e3847334653980f0ddc93c4dd22": {
          "model_module": "@jupyter-widgets/base",
          "model_name": "LayoutModel",
          "model_module_version": "1.2.0",
          "state": {
            "_model_module": "@jupyter-widgets/base",
            "_model_module_version": "1.2.0",
            "_model_name": "LayoutModel",
            "_view_count": null,
            "_view_module": "@jupyter-widgets/base",
            "_view_module_version": "1.2.0",
            "_view_name": "LayoutView",
            "align_content": null,
            "align_items": null,
            "align_self": null,
            "border": null,
            "bottom": null,
            "display": null,
            "flex": null,
            "flex_flow": null,
            "grid_area": null,
            "grid_auto_columns": null,
            "grid_auto_flow": null,
            "grid_auto_rows": null,
            "grid_column": null,
            "grid_gap": null,
            "grid_row": null,
            "grid_template_areas": null,
            "grid_template_columns": null,
            "grid_template_rows": null,
            "height": null,
            "justify_content": null,
            "justify_items": null,
            "left": null,
            "margin": null,
            "max_height": null,
            "max_width": null,
            "min_height": null,
            "min_width": null,
            "object_fit": null,
            "object_position": null,
            "order": null,
            "overflow": null,
            "overflow_x": null,
            "overflow_y": null,
            "padding": null,
            "right": null,
            "top": null,
            "visibility": null,
            "width": null
          }
        },
        "fa72666a4ba240e996982bb12ea79e39": {
          "model_module": "@jupyter-widgets/base",
          "model_name": "LayoutModel",
          "model_module_version": "1.2.0",
          "state": {
            "_model_module": "@jupyter-widgets/base",
            "_model_module_version": "1.2.0",
            "_model_name": "LayoutModel",
            "_view_count": null,
            "_view_module": "@jupyter-widgets/base",
            "_view_module_version": "1.2.0",
            "_view_name": "LayoutView",
            "align_content": null,
            "align_items": null,
            "align_self": null,
            "border": null,
            "bottom": null,
            "display": null,
            "flex": null,
            "flex_flow": null,
            "grid_area": null,
            "grid_auto_columns": null,
            "grid_auto_flow": null,
            "grid_auto_rows": null,
            "grid_column": null,
            "grid_gap": null,
            "grid_row": null,
            "grid_template_areas": null,
            "grid_template_columns": null,
            "grid_template_rows": null,
            "height": null,
            "justify_content": null,
            "justify_items": null,
            "left": null,
            "margin": null,
            "max_height": null,
            "max_width": null,
            "min_height": null,
            "min_width": null,
            "object_fit": null,
            "object_position": null,
            "order": null,
            "overflow": null,
            "overflow_x": null,
            "overflow_y": null,
            "padding": null,
            "right": null,
            "top": null,
            "visibility": null,
            "width": null
          }
        },
        "aa4f40e7febe4bca89348d121283908c": {
          "model_module": "@jupyter-widgets/controls",
          "model_name": "DescriptionStyleModel",
          "model_module_version": "1.5.0",
          "state": {
            "_model_module": "@jupyter-widgets/controls",
            "_model_module_version": "1.5.0",
            "_model_name": "DescriptionStyleModel",
            "_view_count": null,
            "_view_module": "@jupyter-widgets/base",
            "_view_module_version": "1.2.0",
            "_view_name": "StyleView",
            "description_width": ""
          }
        },
        "a67b1396575c463ebf2c2586d3ef74fc": {
          "model_module": "@jupyter-widgets/base",
          "model_name": "LayoutModel",
          "model_module_version": "1.2.0",
          "state": {
            "_model_module": "@jupyter-widgets/base",
            "_model_module_version": "1.2.0",
            "_model_name": "LayoutModel",
            "_view_count": null,
            "_view_module": "@jupyter-widgets/base",
            "_view_module_version": "1.2.0",
            "_view_name": "LayoutView",
            "align_content": null,
            "align_items": null,
            "align_self": null,
            "border": null,
            "bottom": null,
            "display": null,
            "flex": null,
            "flex_flow": null,
            "grid_area": null,
            "grid_auto_columns": null,
            "grid_auto_flow": null,
            "grid_auto_rows": null,
            "grid_column": null,
            "grid_gap": null,
            "grid_row": null,
            "grid_template_areas": null,
            "grid_template_columns": null,
            "grid_template_rows": null,
            "height": null,
            "justify_content": null,
            "justify_items": null,
            "left": null,
            "margin": null,
            "max_height": null,
            "max_width": null,
            "min_height": null,
            "min_width": null,
            "object_fit": null,
            "object_position": null,
            "order": null,
            "overflow": null,
            "overflow_x": null,
            "overflow_y": null,
            "padding": null,
            "right": null,
            "top": null,
            "visibility": null,
            "width": null
          }
        },
        "8a017e9c52f043c7b2aabce21ed39c4c": {
          "model_module": "@jupyter-widgets/controls",
          "model_name": "ProgressStyleModel",
          "model_module_version": "1.5.0",
          "state": {
            "_model_module": "@jupyter-widgets/controls",
            "_model_module_version": "1.5.0",
            "_model_name": "ProgressStyleModel",
            "_view_count": null,
            "_view_module": "@jupyter-widgets/base",
            "_view_module_version": "1.2.0",
            "_view_name": "StyleView",
            "bar_color": null,
            "description_width": ""
          }
        },
        "30d4d946ac6948ee9f5a075346f6b5ec": {
          "model_module": "@jupyter-widgets/base",
          "model_name": "LayoutModel",
          "model_module_version": "1.2.0",
          "state": {
            "_model_module": "@jupyter-widgets/base",
            "_model_module_version": "1.2.0",
            "_model_name": "LayoutModel",
            "_view_count": null,
            "_view_module": "@jupyter-widgets/base",
            "_view_module_version": "1.2.0",
            "_view_name": "LayoutView",
            "align_content": null,
            "align_items": null,
            "align_self": null,
            "border": null,
            "bottom": null,
            "display": null,
            "flex": null,
            "flex_flow": null,
            "grid_area": null,
            "grid_auto_columns": null,
            "grid_auto_flow": null,
            "grid_auto_rows": null,
            "grid_column": null,
            "grid_gap": null,
            "grid_row": null,
            "grid_template_areas": null,
            "grid_template_columns": null,
            "grid_template_rows": null,
            "height": null,
            "justify_content": null,
            "justify_items": null,
            "left": null,
            "margin": null,
            "max_height": null,
            "max_width": null,
            "min_height": null,
            "min_width": null,
            "object_fit": null,
            "object_position": null,
            "order": null,
            "overflow": null,
            "overflow_x": null,
            "overflow_y": null,
            "padding": null,
            "right": null,
            "top": null,
            "visibility": null,
            "width": null
          }
        },
        "e58c6d1273db4f98bf453d9aa7604db6": {
          "model_module": "@jupyter-widgets/controls",
          "model_name": "DescriptionStyleModel",
          "model_module_version": "1.5.0",
          "state": {
            "_model_module": "@jupyter-widgets/controls",
            "_model_module_version": "1.5.0",
            "_model_name": "DescriptionStyleModel",
            "_view_count": null,
            "_view_module": "@jupyter-widgets/base",
            "_view_module_version": "1.2.0",
            "_view_name": "StyleView",
            "description_width": ""
          }
        }
      }
    }
  },
  "nbformat": 4,
  "nbformat_minor": 0
}